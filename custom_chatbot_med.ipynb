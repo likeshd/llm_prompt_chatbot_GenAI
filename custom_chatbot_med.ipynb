{
  "nbformat": 4,
  "nbformat_minor": 0,
  "metadata": {
    "colab": {
      "provenance": [],
      "include_colab_link": true
    },
    "kernelspec": {
      "name": "python3",
      "display_name": "Python 3"
    },
    "language_info": {
      "name": "python"
    }
  },
  "cells": [
    {
      "cell_type": "markdown",
      "metadata": {
        "id": "view-in-github",
        "colab_type": "text"
      },
      "source": [
        "<a href=\"https://colab.research.google.com/github/likeshd/llm_prompt_chatbot_GenAI/blob/main/custom_chatbot_med.ipynb\" target=\"_parent\"><img src=\"https://colab.research.google.com/assets/colab-badge.svg\" alt=\"Open In Colab\"/></a>"
      ]
    },
    {
      "cell_type": "code",
      "execution_count": null,
      "metadata": {
        "colab": {
          "base_uri": "https://localhost:8080/"
        },
        "id": "PAWmWzfaAkbt",
        "outputId": "6b016e5e-1607-4979-fdad-f89b2721ef9a"
      },
      "outputs": [
        {
          "output_type": "stream",
          "name": "stdout",
          "text": [
            "Requirement already satisfied: openai==0.28 in /usr/local/lib/python3.10/dist-packages (0.28.0)\n",
            "Requirement already satisfied: pandas in /usr/local/lib/python3.10/dist-packages (2.0.3)\n",
            "Requirement already satisfied: requests>=2.20 in /usr/local/lib/python3.10/dist-packages (from openai==0.28) (2.31.0)\n",
            "Requirement already satisfied: tqdm in /usr/local/lib/python3.10/dist-packages (from openai==0.28) (4.66.4)\n",
            "Requirement already satisfied: aiohttp in /usr/local/lib/python3.10/dist-packages (from openai==0.28) (3.9.5)\n",
            "Requirement already satisfied: python-dateutil>=2.8.2 in /usr/local/lib/python3.10/dist-packages (from pandas) (2.8.2)\n",
            "Requirement already satisfied: pytz>=2020.1 in /usr/local/lib/python3.10/dist-packages (from pandas) (2023.4)\n",
            "Requirement already satisfied: tzdata>=2022.1 in /usr/local/lib/python3.10/dist-packages (from pandas) (2024.1)\n",
            "Requirement already satisfied: numpy>=1.21.0 in /usr/local/lib/python3.10/dist-packages (from pandas) (1.25.2)\n",
            "Requirement already satisfied: six>=1.5 in /usr/local/lib/python3.10/dist-packages (from python-dateutil>=2.8.2->pandas) (1.16.0)\n",
            "Requirement already satisfied: charset-normalizer<4,>=2 in /usr/local/lib/python3.10/dist-packages (from requests>=2.20->openai==0.28) (3.3.2)\n",
            "Requirement already satisfied: idna<4,>=2.5 in /usr/local/lib/python3.10/dist-packages (from requests>=2.20->openai==0.28) (3.7)\n",
            "Requirement already satisfied: urllib3<3,>=1.21.1 in /usr/local/lib/python3.10/dist-packages (from requests>=2.20->openai==0.28) (2.0.7)\n",
            "Requirement already satisfied: certifi>=2017.4.17 in /usr/local/lib/python3.10/dist-packages (from requests>=2.20->openai==0.28) (2024.6.2)\n",
            "Requirement already satisfied: aiosignal>=1.1.2 in /usr/local/lib/python3.10/dist-packages (from aiohttp->openai==0.28) (1.3.1)\n",
            "Requirement already satisfied: attrs>=17.3.0 in /usr/local/lib/python3.10/dist-packages (from aiohttp->openai==0.28) (23.2.0)\n",
            "Requirement already satisfied: frozenlist>=1.1.1 in /usr/local/lib/python3.10/dist-packages (from aiohttp->openai==0.28) (1.4.1)\n",
            "Requirement already satisfied: multidict<7.0,>=4.5 in /usr/local/lib/python3.10/dist-packages (from aiohttp->openai==0.28) (6.0.5)\n",
            "Requirement already satisfied: yarl<2.0,>=1.0 in /usr/local/lib/python3.10/dist-packages (from aiohttp->openai==0.28) (1.9.4)\n",
            "Requirement already satisfied: async-timeout<5.0,>=4.0 in /usr/local/lib/python3.10/dist-packages (from aiohttp->openai==0.28) (4.0.3)\n"
          ]
        }
      ],
      "source": [
        "!pip install openai==0.28 pandas"
      ]
    },
    {
      "cell_type": "code",
      "source": [
        "import openai\n",
        "import pandas as pd"
      ],
      "metadata": {
        "id": "MIJd2QPHKxoW"
      },
      "execution_count": null,
      "outputs": []
    },
    {
      "cell_type": "code",
      "source": [
        "openai.api_key = 'bsbxsbjbsxbcbajbkja'"
      ],
      "metadata": {
        "id": "355f4QVUK7Aq"
      },
      "execution_count": null,
      "outputs": []
    },
    {
      "cell_type": "code",
      "source": [],
      "metadata": {
        "id": "E8on0EaM4WXH"
      },
      "execution_count": null,
      "outputs": []
    },
    {
      "cell_type": "code",
      "source": [],
      "metadata": {
        "id": "rhALVGWy4WxZ"
      },
      "execution_count": null,
      "outputs": []
    },
    {
      "cell_type": "code",
      "source": [
        "file_path = (r'/content/sample_data/Pharmaco_Insights.csv')\n",
        "data = pd.read_csv(file_path)"
      ],
      "metadata": {
        "id": "KIwhkIzaLqeM"
      },
      "execution_count": null,
      "outputs": []
    },
    {
      "cell_type": "code",
      "source": [
        "metadata = {\n",
        "    \"TRN_INSIGHT_ID\": \"Unique Insight ID (Important)\",\n",
        "    \"SPECIALTY\": \"HCP Speciality (Important)\",\n",
        "    \"TIER_LEVEL\": \"HCP Tier Level (Nice to have)\",\n",
        "    \"INSIGHT_DATE\": \"Insight Date (Important)\",\n",
        "    \"INSIGHTS\": \"What HCPs are saying to Medical Reps when contacted (Important)\",\n",
        "    \"INSIGHT_LOCATION\": \"Location where Insights are captured (Nice to have)\",\n",
        "    \"INSIGHT_SENTIMENT\": \"Sentiment of the HCP (Important)\",\n",
        "    \"MSL_NAME\": \"Region of HCP (Important)\",\n",
        "    \"TEAM\": \"Broader category Insights are grouped into (Important)\"\n",
        "}"
      ],
      "metadata": {
        "id": "3cQIZDcBNxA9"
      },
      "execution_count": null,
      "outputs": []
    },
    {
      "cell_type": "code",
      "source": [
        "def create_prompt_with_metadata(question, data, metadata):\n",
        "    metadata_info = \"\\n\".join([f\"{col}: {desc}\" for col, desc in metadata.items()])\n",
        "    csv_preview = data.head(500).to_csv(index=False)\n",
        "\n",
        "    prompt = f\"\"\"\n",
        "    You are a data analysis assistant specialized in pharmaceutical insights. Below is a description of the columns in the dataset:\n",
        "    {metadata_info}\n",
        "\n",
        "    Here is a preview of the CSV data:\n",
        "    {csv_preview}\n",
        "\n",
        "    User question: {question}\n",
        "    \"\"\"\n",
        "    return prompt\n"
      ],
      "metadata": {
        "id": "_MaVxDdqN6sy"
      },
      "execution_count": null,
      "outputs": []
    },
    {
      "cell_type": "code",
      "source": [
        "def query_gpt(question, data, metadata):\n",
        "    prompt = create_prompt_with_metadata(question, data, metadata)\n",
        "    response = openai.ChatCompletion.create(\n",
        "        model=\"gpt-4o\",  # Specify the GPT-4 model\n",
        "        messages=[\n",
        "            {\"role\": \"system\", \"content\": \"You are a helpful assistant.\"},\n",
        "            {\"role\": \"user\", \"content\": prompt}\n",
        "        ],\n",
        "        max_tokens=1500\n",
        "    )\n",
        "    return response['choices'][0]['message']['content'].strip()\n",
        "\n",
        "# Main chatbot loop"
      ],
      "metadata": {
        "id": "Gr1fBvesOf34"
      },
      "execution_count": null,
      "outputs": []
    },
    {
      "cell_type": "code",
      "source": [
        "def chatbot():\n",
        "    print(\"Welcome to the Pharmaco Insights Chatbot!\")\n",
        "    print(\"You can ask questions about the dataset, such as:\")\n",
        "    print(\" - What additional data do HCPs want to see for Rexulti and agitation?\")\n",
        "    print(\" - How has HCP sentiment regarding use of Rexulti in the LTC setting changed in the last X months?\")\n",
        "    print(\" - Are there any differences in perceptions related to use of Rexulti for agitation among primary care providers compared to psychiatrists and neurologists?\")\n",
        "    print(\" - What educational gaps are there for HCPs as it relates to Rexulti and agitation?\")\n",
        "    print(\" - Do providers find the Rexulti pharmacology story compelling?\")\n",
        "    print(\" - What is the key Rexulti data most useful for HCPs in making treatment decisions?\")\n",
        "    print(\" - What are the top 5 barriers to adoption of Rexulti? How does this differ by Source Specialty and Source Location?\")\n",
        "    print(\" - Has the increase in topical webinars over the past X months impacted HCP sentiment related to Rexulti?\")\n",
        "    print(\" - What competitive products or treatments are mentioned most often for AAD, and are there consistent keywords or reasons associated with those competitors?\")\n",
        "    print(\" - Can you summarize the insights?\")\n",
        "    print(\" - Can you group the insights by key themes?\")\n",
        "    print(\" - What is the general sentiment among psychiatrists regarding use of Rexulti in the last X months?\")\n",
        "    print(\" - Can you give me insights IDs that have positive sentiment regarding use of Rexulti in last X months?\")\n",
        "    print(\" - Can you summarize what Local KOLs, who are Neurologists, saying about the use of Rexulti?\")\n",
        "    print(\" - Can you tell me who among neurologists, psychiatrists and primary care providers are more positive towards use of Rexulti for agitation?\")\n",
        "\n",
        "    while True:\n",
        "        question = input(\"\\nPlease enter your question (or type 'exit' to quit): \")\n",
        "        if question.lower() == 'exit':\n",
        "            print(\"Goodbye!\")\n",
        "            break\n",
        "        answer = query_gpt(question, data, metadata)\n",
        "        print(f\"\\nQ: {question}\\nA: {answer}\\n\")"
      ],
      "metadata": {
        "id": "kdbopar3Oo8w"
      },
      "execution_count": null,
      "outputs": []
    },
    {
      "cell_type": "code",
      "source": [
        "\n",
        "# Start the chatbot\n",
        "chatbot()"
      ],
      "metadata": {
        "colab": {
          "base_uri": "https://localhost:8080/"
        },
        "id": "trHJOKx7Oq8x",
        "outputId": "0a7bc597-3b5b-400b-d040-1ff94b986997"
      },
      "execution_count": null,
      "outputs": [
        {
          "output_type": "stream",
          "name": "stdout",
          "text": [
            "Welcome to the Pharmaco Insights Chatbot!\n",
            "You can ask questions about the dataset, such as:\n",
            " - What additional data do HCPs want to see for Rexulti and agitation?\n",
            " - How has HCP sentiment regarding use of Rexulti in the LTC setting changed in the last X months?\n",
            " - Are there any differences in perceptions related to use of Rexulti for agitation among primary care providers compared to psychiatrists and neurologists?\n",
            " - What educational gaps are there for HCPs as it relates to Rexulti and agitation?\n",
            " - Do providers find the Rexulti pharmacology story compelling?\n",
            " - What is the key Rexulti data most useful for HCPs in making treatment decisions?\n",
            " - What are the top 5 barriers to adoption of Rexulti? How does this differ by Source Specialty and Source Location?\n",
            " - Has the increase in topical webinars over the past X months impacted HCP sentiment related to Rexulti?\n",
            " - What competitive products or treatments are mentioned most often for AAD, and are there consistent keywords or reasons associated with those competitors?\n",
            " - Can you summarize the insights?\n",
            " - Can you group the insights by key themes?\n",
            " - What is the general sentiment among psychiatrists regarding use of Rexulti in the last X months?\n",
            " - Can you give me insights IDs that have positive sentiment regarding use of Rexulti in last X months?\n",
            " - Can you summarize what Local KOLs, who are Neurologists, saying about the use of Rexulti?\n",
            " - Can you tell me who among neurologists, psychiatrists and primary care providers are more positive towards use of Rexulti for agitation?\n",
            "\n",
            "Please enter your question (or type 'exit' to quit): What additional data do HCPs want to see for Rexulti and agitation?\n",
            "\n",
            "Q: What additional data do HCPs want to see for Rexulti and agitation?\n",
            "A: Based on the insights gathered from various healthcare providers, several key areas have been identified where additional data could help support the use of Rexulti for agitation in Alzheimer's disease. Here are specific areas and types of data HCPs are interested in:\n",
            "\n",
            "### 1. **Clinical Efficacy and Comparisons**\n",
            "- **Head-to-Head Studies**: Many HCPs expressed a desire for head-to-head studies comparing Rexulti with other antipsychotics or commonly used treatments (e.g., quetiapine, risperidone).\n",
            "- **Long-Term Efficacy**: Data on long-term efficacy in diverse patient populations, especially those with comorbid conditions.\n",
            "\n",
            "### 2. **Safety and Adverse Effects**\n",
            "- **Detailed Safety Profiles**: Information on cardiovascular risks, metabolic side effects, and other long-term safety data, particularly for elderly populations with multiple comorbidities.\n",
            "- **Black Box Warning Clarifications**: More context regarding the FDA's black box warning and how it specifically applies to Rexulti.\n",
            "\n",
            "### 3. **Mechanism of Action**\n",
            "- **Detailed MoA Studies**: Insights on how Rexulti's mechanism of action is unique compared to other antipsychotics, especially focusing on its effects on agitation.\n",
            "\n",
            "### 4. **Care Settings and Practical Applications**\n",
            "- **Real-world Data**: Observational studies or real-world data showing the practical application and outcomes of using Rexulti in nursing homes, long-term care facilities, and community settings.\n",
            "- **Impact on Caregiver Burden**: Data showing how treatment with Rexulti can affect the burden on caregivers and overall quality of life for both patients and caregivers.\n",
            "\n",
            "### 5. **Regulatory and Access Issues**\n",
            "- **Reimbursement and Coverage**: Information on insurance coverage, potential out-of-pocket costs, and strategies for ensuring broader access to the medication.\n",
            "- **Clinical Guidelines**: Inclusion in clinical guidelines or treatment algorithms for a broader acceptance and standardized use.\n",
            "\n",
            "### 6. **Adjunctive Use**\n",
            "- **Combination Therapies**: Data on the efficacy and safety of using Rexulti in combination with other treatments for dementia or neuropsychiatric symptoms.\n",
            "\n",
            "### 7. **Biomarkers and Predictive Tools**\n",
            "- **Predictive Markers**: Studies identifying potential biomarkers for predicting patient response to Rexulti.\n",
            "- **Screening Tools**: Simplified, validated screening tools for agitation that can be easily integrated into clinical practice.\n",
            "\n",
            "### Specific Comments from HCPs:\n",
            "\n",
            "- **Clinical Trials and Real-world Use**: \"I am curious about the design of the Phase III study. Were the patients on other medications because a lot of AD/AAD patients will have comorbidities and be on multiple meds?\"\n",
            "- **Head-to-Head Studies**: \"A head-to-head study comparing compounds to demonstrate safety & efficacy would be valuable.\"\n",
            "- **CMAI Utility**: \"Educate LTC space with CMAI because maybe it's this type of scoring/documentation that will get Medicare to cover antipsychotics in LTC patients.\"\n",
            "- **Side Effects and Tolerability**: \"My biggest concern and hesitation when using a new treatment for AAD will be access/cost; i.e., when a patient goes into hospice and the hospice can’t afford it.\"\n",
            "\n",
            "By focusing on these areas, Otsuka can better address the concerns HCPs have when considering Rexulti for agitation in Alzheimer's disease, ultimately facilitating broader and more effective adoption of the drug.\n",
            "\n",
            "\n",
            "Please enter your question (or type 'exit' to quit): exit\n",
            "Goodbye!\n"
          ]
        }
      ]
    }
  ]
}