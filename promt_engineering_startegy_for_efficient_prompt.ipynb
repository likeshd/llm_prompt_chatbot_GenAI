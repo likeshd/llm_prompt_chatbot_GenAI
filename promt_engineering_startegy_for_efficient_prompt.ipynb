{
  "nbformat": 4,
  "nbformat_minor": 0,
  "metadata": {
    "colab": {
      "provenance": [],
      "authorship_tag": "ABX9TyMimev5hSTln7tGraHUWcHy",
      "include_colab_link": true
    },
    "kernelspec": {
      "name": "python3",
      "display_name": "Python 3"
    },
    "language_info": {
      "name": "python"
    }
  },
  "cells": [
    {
      "cell_type": "markdown",
      "metadata": {
        "id": "view-in-github",
        "colab_type": "text"
      },
      "source": [
        "<a href=\"https://colab.research.google.com/github/likeshd/llm_prompt_chatbot_GenAI/blob/main/promt_engineering_startegy_for_efficient_prompt.ipynb\" target=\"_parent\"><img src=\"https://colab.research.google.com/assets/colab-badge.svg\" alt=\"Open In Colab\"/></a>"
      ]
    },
    {
      "cell_type": "code",
      "execution_count": 2,
      "metadata": {
        "colab": {
          "base_uri": "https://localhost:8080/"
        },
        "id": "sRFfoQRSSZW6",
        "outputId": "193d8652-26a2-44ec-c6c4-bcf3caf3bb83"
      },
      "outputs": [
        {
          "output_type": "stream",
          "name": "stdout",
          "text": [
            "CSV file generated successfully!\n"
          ]
        }
      ],
      "source": [
        "import pandas as pd\n",
        "\n",
        "# Define the data\n",
        "data = {\n",
        "    \"user_input\": [\n",
        "        \"How can I lose weight effectively?\",\n",
        "        \"What is the best way to build muscle?\",\n",
        "        \"How often should I work out to stay fit?\",\n",
        "        \"What are some good exercises for improving flexibility?\",\n",
        "        \"Can I gain muscle without using weights?\",\n",
        "        \"What's a healthy diet for weight loss?\",\n",
        "        \"How can I improve my endurance?\",\n",
        "        \"What should I eat before a workout?\",\n",
        "        \"How can I recover faster after a workout?\",\n",
        "        \"What exercises can I do to strengthen my core?\"\n",
        "    ],\n",
        "    \"response\": [\n",
        "        \"To lose weight, consider a combination of a balanced diet, regular exercise, and staying hydrated.\",\n",
        "        \"Building muscle requires strength training exercises like weightlifting, along with a protein-rich diet.\",\n",
        "        \"For general fitness, aim to work out at least 3-4 times a week with a mix of cardio and strength training.\",\n",
        "        \"Yoga and stretching exercises are excellent for improving flexibility and joint mobility.\",\n",
        "        \"Yes, bodyweight exercises like push-ups, squats, and pull-ups can help you build muscle without weights.\",\n",
        "        \"A healthy diet for weight loss includes lean proteins, whole grains, plenty of vegetables, and limited sugars and fats.\",\n",
        "        \"To improve endurance, include aerobic exercises like running, cycling, and swimming in your routine.\",\n",
        "        \"Before a workout, eat a small meal with carbs and protein, like a banana with peanut butter or a yogurt.\",\n",
        "        \"Post-workout recovery can be enhanced by staying hydrated, eating protein-rich foods, and getting enough sleep.\",\n",
        "        \"Core-strengthening exercises include planks, sit-ups, and leg raises.\"\n",
        "    ]\n",
        "}\n",
        "\n",
        "# Create a DataFrame\n",
        "df = pd.DataFrame(data)\n",
        "\n",
        "# Save to CSV\n",
        "# df.to_csv('/content/sample_data/fitness_dataset.csv', index=False)\n",
        "\n",
        "print(\"CSV file generated successfully!\")\n"
      ]
    },
    {
      "cell_type": "code",
      "source": [
        "import pandas as pd\n",
        "from sklearn.feature_extraction.text import TfidfVectorizer\n",
        "from sklearn.metrics.pairwise import cosine_similarity\n",
        "\n"
      ],
      "metadata": {
        "id": "qhs9OC5eSqGT"
      },
      "execution_count": 3,
      "outputs": []
    },
    {
      "cell_type": "code",
      "source": [
        "def generate_prompts(user_query):\n",
        "    # Load the dataset\n",
        "    df = pd.read_csv('/content/sample_data/fitness_dataset.csv')\n",
        "\n",
        "    # Combine user_input and response into a single column to use them together for prompt engineering\n",
        "    df['combined'] = df['user_input'] + \" \" + df['response']\n",
        "\n",
        "    # Initialize TF-IDF Vectorizer\n",
        "    vectorizer = TfidfVectorizer()\n",
        "\n",
        "    # Fit and transform the combined data\n",
        "    tfidf_matrix = vectorizer.fit_transform(df['combined'])\n",
        "\n",
        "    # Transform the user query into the same TF-IDF space\n",
        "    user_query_tfidf = vectorizer.transform([user_query])\n",
        "\n",
        "    # Compute cosine similarity between the user query and all combined entries in the dataset\n",
        "    cosine_similarities = cosine_similarity(user_query_tfidf, tfidf_matrix).flatten()\n",
        "\n",
        "    # Get the indices of the top 3 most similar responses\n",
        "    top_indices = cosine_similarities.argsort()[-3:][::-1]\n",
        "\n",
        "    # Generate prompts based on the most similar responses\n",
        "    prompts = df['combined'].iloc[top_indices].tolist()\n",
        "\n",
        "    return prompts"
      ],
      "metadata": {
        "id": "QWZ_LlgOS7TO"
      },
      "execution_count": 5,
      "outputs": []
    },
    {
      "cell_type": "code",
      "source": [
        "# Example usage:\n",
        "user_query = \"How can I lose weight effectively?\"\n",
        "prompts = generate_prompts(user_query)\n",
        "print(prompts)\n"
      ],
      "metadata": {
        "colab": {
          "base_uri": "https://localhost:8080/"
        },
        "id": "ozoZP-qeS7V5",
        "outputId": "0cef0148-5cfc-42a8-da20-b87389ac9fed"
      },
      "execution_count": 6,
      "outputs": [
        {
          "output_type": "stream",
          "name": "stdout",
          "text": [
            "['How can I lose weight effectively? To lose weight, consider a combination of a balanced diet, regular exercise, and staying hydrated.', \"What's a healthy diet for weight loss? A healthy diet for weight loss includes lean proteins, whole grains, plenty of vegetables, and limited sugars and fats.\", 'How can I recover faster after a workout? Post-workout recovery can be enhanced by staying hydrated, eating protein-rich foods, and getting enough sleep.']\n"
          ]
        }
      ]
    },
    {
      "cell_type": "code",
      "source": [],
      "metadata": {
        "id": "W00dOdy2S7Y0"
      },
      "execution_count": null,
      "outputs": []
    },
    {
      "cell_type": "code",
      "source": [],
      "metadata": {
        "id": "zuK6Ae1RS7bW"
      },
      "execution_count": null,
      "outputs": []
    },
    {
      "cell_type": "code",
      "source": [],
      "metadata": {
        "id": "MBSh6gGIS7ez"
      },
      "execution_count": null,
      "outputs": []
    },
    {
      "cell_type": "code",
      "source": [],
      "metadata": {
        "id": "-fu14pSPShKy"
      },
      "execution_count": null,
      "outputs": []
    },
    {
      "cell_type": "code",
      "source": [],
      "metadata": {
        "id": "ypjdYKdnSarS"
      },
      "execution_count": null,
      "outputs": []
    }
  ]
}